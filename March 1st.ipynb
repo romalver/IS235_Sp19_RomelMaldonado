{
 "cells": [
  {
   "cell_type": "code",
   "execution_count": 38,
   "metadata": {},
   "outputs": [
    {
     "name": "stdout",
     "output_type": "stream",
     "text": [
      "pick a number 10000\n",
      "0.7854231608976279\n",
      "---------\n",
      "0.7853731633975086\n",
      "---------\n",
      "0.7853731633975086\n",
      "---------\n",
      "0.7853731633975086\n",
      "---------\n",
      "-2.4007760179048048 3.186149181302317 The sum of both is:  0.7853731633975123\n",
      "---------\n"
     ]
    }
   ],
   "source": [
    "k = int(input(\"pick a number \"))\n",
    "adding = 1\n",
    "while(k>0):\n",
    "    xtop = (-1)**k\n",
    "    xbottom = 1 + 2*k\n",
    "    #print (xtop, \"/\", xbottom)\n",
    "    adding = adding + xtop/xbottom\n",
    "    k = k - 1\n",
    "    #print (k)\n",
    "print(adding)\n",
    "print(\"---------\")\n",
    "adding = 0\n",
    "for k in range(10000):\n",
    "    x = (-1)**k\n",
    "    y = 1 + 2*k\n",
    "    adding = adding + x/y\n",
    "    #print(k)\n",
    "print(adding)\n",
    "print(\"---------\")\n",
    "\n",
    "x= 0\n",
    "for (k) in range (10000):\n",
    "    x=x+((-1)**k)/(1+2*k)\n",
    "print (x)\n",
    "print(\"---------\")\n",
    "x= 0\n",
    "\n",
    "for (k) in range (10000):\n",
    "    x += pow(-1,k)/(2*k+1)\n",
    "print (x)\n",
    "print(\"---------\")\n",
    "\n",
    "negadding = 0\n",
    "posadding = 0\n",
    "for k in range(10000):\n",
    "    x = (-1)**k\n",
    "    y = 1 + 2*k\n",
    "    if x < 0:\n",
    "        negadding = negadding + x/y\n",
    "    #print(k)\n",
    "    elif x > 0:\n",
    "        posadding = posadding + x/y\n",
    "        \n",
    "print(negadding, posadding, \"The sum of both is: \", negadding+posadding)\n",
    "print(\"---------\")\n",
    "\n",
    "\n",
    "    "
   ]
  },
  {
   "cell_type": "markdown",
   "metadata": {},
   "source": [
    "print(\"Welcome to System Security Inc.\") \n",
    "print(\"-- where security is our middle name\\n\")\n",
    "password = input(\"Enter your password: \")\n",
    "if password == \"secret\": print(\"Access Granted\")\n",
    "input(\"\\n\\nPress the enter key to exit.\")"
   ]
  },
  {
   "cell_type": "code",
   "execution_count": 39,
   "metadata": {},
   "outputs": [
    {
     "name": "stdout",
     "output_type": "stream",
     "text": [
      "Welcome to System Security Inc.\n",
      "-- where security is our middle name\n",
      "\n",
      "Enter your password: secret\n",
      "Access Granted\n"
     ]
    }
   ],
   "source": [
    "print(\"Welcome to System Security Inc.\")\n",
    "print(\"-- where security is our middle name\\n\")\n",
    "password = input(\"Enter your password: \") \n",
    "if password == \"secret\": \n",
    "    print(\"Access Granted\") \n",
    "else:\n",
    "    print(\"Access Denied\")\n"
   ]
  },
  {
   "cell_type": "code",
   "execution_count": 47,
   "metadata": {},
   "outputs": [
    {
     "name": "stdout",
     "output_type": "stream",
     "text": [
      "I sense your energy.\n",
      "You are...\n",
      "\n",
      "    | | | | | |\n",
      "    ----------|\n",
      "    O O | | |\n",
      "    < '\n",
      "    .'. | ' |\n",
      "    -----------\n",
      "    \n"
     ]
    }
   ],
   "source": [
    "# Mood Computer # Demonstrates the elif clause\n",
    "import random \n",
    "print(\"I sense your energy.\")\n",
    "print(\"You are...\") \n",
    "mood = random.randint(1, 3)\n",
    "                    \n",
    "if mood == 1: # happy\n",
    "    print(  \n",
    "    \"\"\"\n",
    "    ----------\n",
    "    |  O O  |\n",
    "    |   <   |\n",
    "    |       |\n",
    "    |.     .| \n",
    "    | `...` |\n",
    "    ----------\n",
    "    \"\"\")\n",
    "elif mood == 2: # neutral\n",
    "    print(  \n",
    "    \"\"\"\n",
    "    ----------\n",
    "    |  O O  |\n",
    "    |   <   |\n",
    "    |       |\n",
    "    | ----- | \n",
    "    |       |\n",
    "    ----------\n",
    "    \"\"\")\n",
    "elif mood == 3: # sad\n",
    "    print( \n",
    "    \"\"\"\n",
    "    |  O O  |\n",
    "    |   <   |\n",
    "    |       |\n",
    "    | '      | \n",
    "    |       |\n",
    "    -----------\n",
    "    \"\"\")\n",
    "else: \n",
    "    print(\"Illegal mood value! (You must be in a really bad mood).\")\n",
    "            "
   ]
  },
  {
   "cell_type": "code",
   "execution_count": null,
   "metadata": {},
   "outputs": [],
   "source": []
  }
 ],
 "metadata": {
  "kernelspec": {
   "display_name": "Python 3",
   "language": "python",
   "name": "python3"
  },
  "language_info": {
   "codemirror_mode": {
    "name": "ipython",
    "version": 3
   },
   "file_extension": ".py",
   "mimetype": "text/x-python",
   "name": "python",
   "nbconvert_exporter": "python",
   "pygments_lexer": "ipython3",
   "version": "3.7.1"
  }
 },
 "nbformat": 4,
 "nbformat_minor": 2
}
