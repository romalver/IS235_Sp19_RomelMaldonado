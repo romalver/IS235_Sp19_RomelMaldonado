{
 "cells": [
  {
   "cell_type": "code",
   "execution_count": 2,
   "metadata": {},
   "outputs": [
    {
     "name": "stdout",
     "output_type": "stream",
     "text": [
      "Type in a sentence and hit the ENTER key: abcdef\n",
      "b\n",
      "c\n",
      "d\n",
      "f\n",
      "ae\n",
      "Number of vowels:  2\n",
      "Number of consonants:  4\n",
      "a\n",
      "b\n",
      "c\n"
     ]
    }
   ],
   "source": [
    "#get a sentence from the user\n",
    "#store that sentence as a variable\n",
    "sentence1 = input(\"Type in a sentence and hit the ENTER key: \")\n",
    "sentence2 = \"\"\n",
    "#get length of the sentence\n",
    "length = len(sentence1)\n",
    "CONSONANTS = \"bcdfghjklmnpqrstvwxyzBCDFGHJKLMNPQRSTVWXYZ\" #variable in all upper case to make sure it is considered a constant\n",
    "VOWELS = \"aeiouAEIOU\"\n",
    "vowel_count = 0\n",
    "consonant_count = 0\n",
    "#loop from 0 to length of sentence\n",
    "for i in range(length):\n",
    "    if sentence1[i] in CONSONANTS:\n",
    "        #do nothing\n",
    "        consonant_count += 1\n",
    "        print (sentence1[i])\n",
    "    else:\n",
    "        sentence2+=sentence1[i]\n",
    "        vowel_count += 1\n",
    "    #if consonant, add to new string\n",
    "    #else do nothing \n",
    "    #(remove the vowels from the sentence)\n",
    "#print new sentence without vowels\n",
    "print(sentence2)\n",
    "print(\"Number of vowels: \", vowel_count)\n",
    "print(\"Number of consonants: \", consonant_count)\n",
    "#HAVE TO REMOVE CONSONANTS NOW\n",
    "#COUNT CONSONANTS AND VOWELS\n",
    "#COUNT OTHER CHARACTERS\n",
    "for i in range(3):\n",
    "    print(sentence1[i])"
   ]
  },
  {
   "cell_type": "code",
   "execution_count": 6,
   "metadata": {},
   "outputs": [
    {
     "name": "stdout",
     "output_type": "stream",
     "text": [
      "Type in a sentence and hit the ENTER key: !!!!this is how you get 1234 other variable?><:\n",
      "Vowel sentence is:  iiooueoeaiae\n",
      "Consonant sentence is:  thsshwygtthrvrbl\n",
      "Other Sentence is:  !!!!     1234  ?><:\n",
      "Vowel Count is:  12\n",
      "Consonant count is:  16\n",
      "Other count is:  19\n"
     ]
    }
   ],
   "source": [
    "#OBTAIN SENTENCE FROM USER\n",
    "sentence = input(\"Type in a sentence and hit the ENTER key: \")\n",
    "length = len(sentence)\n",
    "#Set constants\n",
    "CONSONANTS = \"bcdfghjklmnpqrstvwxyzBCDFGHJKLMNPQRSTVWXYZ\" #variable in all upper case to make sure it is considered a constant\n",
    "VOWELS = \"aeiouAEIOU\"\n",
    "#One Sentence with Only Vowels\n",
    "vowelSentence = ''\n",
    "#One sentence with only consonants \n",
    "consonantSentence = ''\n",
    "#One sentence with all the other characters\n",
    "otherChSentence = ''\n",
    "#Count number of Vowels\n",
    "vowelCount = 0\n",
    "#Count number of consonants\n",
    "consonantCount = 0\n",
    "#Count number of Other Characters\n",
    "otherChCount = 0\n",
    "#Start Loop at 0 until length of the sentence\n",
    "for i in range(length):\n",
    "    #Check if character is a vowel\n",
    "    #If character is vowel, \n",
    "    if sentence[i] in VOWELS:\n",
    "        #add the character to vowelSentence\n",
    "        vowelSentence+=sentence[i]\n",
    "        #Increase number of vowels by 1\n",
    "        vowelCount+=1\n",
    "    #elif the character is a consonant\n",
    "    elif sentence[i] in CONSONANTS:\n",
    "        #add the character to consonantSentence\n",
    "        consonantSentence+=sentence[i]\n",
    "        #Increase number of consonants by 1\n",
    "        consonantCount+=1\n",
    "    #else\n",
    "    else:\n",
    "        #the character is to otherChSentence\n",
    "        otherChSentence+=sentence[i]\n",
    "        #Increase number of otherChCount by 1\n",
    "        otherChCount+=1\n",
    "#end loop\n",
    "#Print Sentence of each\n",
    "print(\"Vowel sentence is: \", vowelSentence)\n",
    "print(\"Consonant sentence is: \", consonantSentence)\n",
    "print(\"Other Sentence is: \", otherChSentence)\n",
    "#Print counts of each\n",
    "print(\"Vowel Count is: \", vowelCount)\n",
    "print(\"Consonant count is: \", consonantCount)\n",
    "print(\"Other count is: \", otherChCount)\n"
   ]
  },
  {
   "cell_type": "code",
   "execution_count": 9,
   "metadata": {},
   "outputs": [
    {
     "name": "stdout",
     "output_type": "stream",
     "text": [
      "4714.0\n"
     ]
    }
   ],
   "source": [
    "sentence1 = \"3478\"\n",
    "sentence2 = \"1236\"\n",
    "\n",
    "sentence1=float(sentence1)\n",
    "sentence2 = int(sentence2)\n",
    "print(sentence1+sentence2)"
   ]
  },
  {
   "cell_type": "code",
   "execution_count": 10,
   "metadata": {},
   "outputs": [
    {
     "name": "stdout",
     "output_type": "stream",
     "text": [
      "4714.0\n"
     ]
    }
   ],
   "source": [
    "sentence1 = \"3478\"\n",
    "sentence2 = \"1236\"\n",
    "\n",
    "sentence1=float(sentence1)\n",
    "sentence2 = int(sentence2)\n",
    "print(sentence1+sentence2)\n"
   ]
  },
  {
   "cell_type": "code",
   "execution_count": 11,
   "metadata": {},
   "outputs": [
    {
     "name": "stdout",
     "output_type": "stream",
     "text": [
      "6\n"
     ]
    }
   ],
   "source": [
    "sentence1=\"123456789\"\n",
    "num=5\n",
    "print(sentence1[num])"
   ]
  },
  {
   "cell_type": "code",
   "execution_count": 13,
   "metadata": {},
   "outputs": [
    {
     "name": "stdout",
     "output_type": "stream",
     "text": [
      "1.25\n"
     ]
    }
   ],
   "source": [
    "print(5/4)"
   ]
  },
  {
   "cell_type": "code",
   "execution_count": 4,
   "metadata": {},
   "outputs": [
    {
     "name": "stdout",
     "output_type": "stream",
     "text": [
      "0\n",
      "1\n",
      "2\n",
      "3\n",
      "4\n",
      "5\n"
     ]
    }
   ],
   "source": [
    "for i in range(6):\n",
    "    print (i)"
   ]
  },
  {
   "cell_type": "code",
   "execution_count": null,
   "metadata": {},
   "outputs": [],
   "source": [
    "user_number = input(\"Insert number\")\n",
    "if int(user_number) < 0:\n",
    "    print(\"The number is negative\")\n",
    "    "
   ]
  }
 ],
 "metadata": {
  "kernelspec": {
   "display_name": "Python 3",
   "language": "python",
   "name": "python3"
  },
  "language_info": {
   "codemirror_mode": {
    "name": "ipython",
    "version": 3
   },
   "file_extension": ".py",
   "mimetype": "text/x-python",
   "name": "python",
   "nbconvert_exporter": "python",
   "pygments_lexer": "ipython3",
   "version": "3.7.1"
  }
 },
 "nbformat": 4,
 "nbformat_minor": 2
}
