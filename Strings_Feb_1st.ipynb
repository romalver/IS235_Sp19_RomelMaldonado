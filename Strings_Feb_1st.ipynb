{
 "cells": [
  {
   "cell_type": "code",
   "execution_count": null,
   "metadata": {},
   "outputs": [],
   "source": [
    "#Message analyzer\n",
    "#Asks users to input a message\n",
    "#Counts number of letters in the message\n",
    "#checks if the letter 'e' is in the message\n",
    "\n",
    "message = input(\"Enter a message, we'll see if there is an 'e' in there\\n\")\n",
    "print (\"The length of your message is\", len(message)) #len gives you the number of characters in your message\n",
    "if \"e\" in message: #in function can only check one letter at a time. \n",
    "    print (\"the letter e is in your message\")\n",
    "else: #must be followed up by a colon\n",
    "    print(\"The letter e is not in your message\")\n",
    "input(\"Press 'enter' to exit\")"
   ]
  },
  {
   "cell_type": "code",
   "execution_count": 3,
   "metadata": {},
   "outputs": [
    {
     "name": "stdout",
     "output_type": "stream",
     "text": [
      "index -5 i\n",
      "index 4 x\n",
      "index -5 i\n",
      "index -2 e\n",
      "index -5 i\n",
      "index -2 e\n",
      "index 3 e\n",
      "index -5 i\n",
      "index -4 n\n",
      "index -5 i\n",
      "press enter to exit\n"
     ]
    },
    {
     "data": {
      "text/plain": [
       "''"
      ]
     },
     "execution_count": 3,
     "metadata": {},
     "output_type": "execute_result"
    }
   ],
   "source": [
    "import random\n",
    "word = \"index\"\n",
    "#randomly pull out letters from the word 'index'\n",
    "high = len(word)\n",
    "low = -len(word) #from the get  to the positive\n",
    "for i in range(10):\n",
    "    position = random.randrange(low, high)\n",
    "    print (word, position, word[position])\n",
    "input(\"press enter to exit\")"
   ]
  },
  {
   "cell_type": "code",
   "execution_count": 9,
   "metadata": {},
   "outputs": [
    {
     "name": "stdout",
     "output_type": "stream",
     "text": [
      "input a wordindex\n",
      "index -5 i\n",
      "index -4 n\n",
      "index -3 d\n",
      "index -2 e\n",
      "index -1 x\n",
      "Goodbye!\n"
     ]
    }
   ],
   "source": [
    "word = input (\"input a word\") #declares variable word to equal string index\n",
    "#pull out letters from the word 'index'\n",
    "high = len(word) #sets variable high to = the length of the word\n",
    "low = -len(word) #sets variable low as the negative length of the word, which actually means going backwards. \n",
    "position = low #sets variable position to equal low, STARTING POSITION for the loop\n",
    "\n",
    "for i in range(high): #for loop for variable i to go through range 10\n",
    "    #prints out the word and the position\n",
    "    print (word, position, word[position]) #prints word, index, position, and the word[position (i)]\n",
    "    position+=1 #increases position by 1\n",
    "print(\"Goodbye!\")"
   ]
  },
  {
   "cell_type": "code",
   "execution_count": 2,
   "metadata": {},
   "outputs": [
    {
     "name": "stdout",
     "output_type": "stream",
     "text": [
      "index 4 x\n",
      "index 3 e\n",
      "index 2 d\n",
      "index 1 n\n",
      "index 0 i\n",
      "index -1 x\n",
      "index -2 e\n",
      "index -3 d\n",
      "index -4 n\n",
      "index -5 i\n",
      "press enter to exit\n"
     ]
    },
    {
     "data": {
      "text/plain": [
       "''"
      ]
     },
     "execution_count": 2,
     "metadata": {},
     "output_type": "execute_result"
    }
   ],
   "source": [
    "word = \"index\"\n",
    "#randomly pull out letters from the word 'index'\n",
    "high = len(word)\n",
    "low = -len(word) #from the get  to the positive\n",
    "position = high -1\n",
    "for i in range(10):\n",
    "    print (word, position, word[position])\n",
    "    position-=1\n",
    "input(\"press enter to exit\")"
   ]
  },
  {
   "cell_type": "code",
   "execution_count": 18,
   "metadata": {},
   "outputs": [
    {
     "name": "stdout",
     "output_type": "stream",
     "text": [
      "insert word hereindex\n",
      "index 4 x\n",
      "index 3 e\n",
      "index 2 d\n",
      "index 1 n\n",
      "index 0 i\n"
     ]
    }
   ],
   "source": [
    "#declares variable word to equal string index\n",
    "word = input(\"insert word here\")\n",
    "#sets variable lengthOfWord to = the length of the word\n",
    "lengthOfWord = len(word)\n",
    "#sets variable position to equal low, STARTING POSITION for the loop\n",
    "position = lengthOfWord-1\n",
    "#for loop for variable i to go through range 10\n",
    "for i in range(lengthOfWord):\n",
    "#prints out the word and the position\n",
    "#prints word, index, position, and the word[position (i)]\n",
    "    print(word, position, word[position])\n",
    "    #decreases position by 1\n",
    "    position -=1\n"
   ]
  },
  {
   "cell_type": "code",
   "execution_count": 29,
   "metadata": {},
   "outputs": [
    {
     "name": "stdout",
     "output_type": "stream",
     "text": [
      "insert phrase hereindex\n",
      "index xedni\n"
     ]
    }
   ],
   "source": [
    "#get a phrase from the user, call it \"phrase\"\n",
    "phrase = input(\"insert phrase here\")\n",
    "#gets the length of the phrase, call it \"lengthPhrase\"\n",
    "lengthPhrase = len(phrase)\n",
    "#makes a variable \"reversePhrase\", it should be a blank string (\"\") \n",
    "reversePhrase = \"\"\n",
    "#make variable position, is for the starting point of the loop that follows.\n",
    "position = lengthPhrase-1\n",
    "#position is the length of phrase-1\n",
    "\n",
    "#loop: the number of times is the length of the phrase\n",
    "for i in range(lengthPhrase): \n",
    "    #starts at position, which is the length of the phrase-1\n",
    "    reversePhrase+=phrase[position]\n",
    "    #add the letter in 'position' of the phrase to the string \"reverse phrase\"\n",
    "    #decreases position by 1. loops as many times as length of word\n",
    "    position-=1  #its -= not =-\n",
    "#after the loop ends, print out both phrase and reverse phrase\n",
    "print(phrase, reversePhrase)"
   ]
  },
  {
   "cell_type": "code",
   "execution_count": 4,
   "metadata": {},
   "outputs": [
    {
     "name": "stdout",
     "output_type": "stream",
     "text": [
      "What is the rating? between 0-10\n",
      "1\n",
      "what is the price? between 100000 - 2000000\n",
      "200000\n",
      "dont buy\n"
     ]
    }
   ],
   "source": [
    "import random\n",
    "#factor= 123000\n",
    " \n",
    "\n",
    "#two inputs from user,\n",
    " #rating(between 0 -10), \n",
    "rating = input(\"What is the rating? between 0-10\\n\") #another way is int(input(\"what is your input\"))\n",
    "intRating = int(rating)\n",
    "if intRating >= 0 and intRating <= 10:\n",
    "#price (between 100000 - 2000000)\n",
    "    price = input(\"what is the price? between 100000 - 2000000\\n\")\n",
    "    intPrice = int(price)\n",
    "    if intPrice >=100000 and intPrice <= 2000000:\n",
    "        #if the price is lower than the (rating*factor), buy\n",
    "        if intPrice <= intRating*factor:\n",
    "            print(\"buy\")\n",
    "        #if the price is higher than the (rating*factor), don't buy\n",
    "        elif intPrice > intRating * factor:\n",
    "            print(\"dont buy\")\n",
    "    else:\n",
    "        print(\"Your price is not between 100000 and 2000000!\")\n",
    "else:\n",
    "    print(\"Your rating is not between 0-10!\")\n",
    "#make buy or dont buy decision\n"
   ]
  },
  {
   "cell_type": "code",
   "execution_count": null,
   "metadata": {},
   "outputs": [],
   "source": []
  }
 ],
 "metadata": {
  "kernelspec": {
   "display_name": "Python 3",
   "language": "python",
   "name": "python3"
  },
  "language_info": {
   "codemirror_mode": {
    "name": "ipython",
    "version": 3
   },
   "file_extension": ".py",
   "mimetype": "text/x-python",
   "name": "python",
   "nbconvert_exporter": "python",
   "pygments_lexer": "ipython3",
   "version": "3.7.1"
  }
 },
 "nbformat": 4,
 "nbformat_minor": 2
}
