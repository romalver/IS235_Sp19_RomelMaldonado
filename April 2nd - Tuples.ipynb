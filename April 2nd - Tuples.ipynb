{
 "cells": [
  {
   "cell_type": "code",
   "execution_count": 6,
   "metadata": {},
   "outputs": [
    {
     "name": "stdout",
     "output_type": "stream",
     "text": [
      "('Apples', 'bread', 'milk')\n",
      "Apples\n",
      "bread\n",
      "milk\n"
     ]
    }
   ],
   "source": [
    "shopList = (\"Apples\", \"bread\", \"milk\")\n",
    "print(shopList)\n",
    "print(shopList[0])\n",
    "print(shopList[1])\n",
    "print(shopList[2])"
   ]
  },
  {
   "cell_type": "code",
   "execution_count": 7,
   "metadata": {},
   "outputs": [
    {
     "name": "stdout",
     "output_type": "stream",
     "text": [
      "('Apples', 'bread', 'milk')\n",
      "Apples\n",
      "bread\n",
      "milk\n"
     ]
    }
   ],
   "source": [
    "shopList = (\"Apples\", \"bread\", \"milk\")\n",
    "print(shopList)\n",
    "print(shopList[-3])\n",
    "print(shopList[-2])\n",
    "print(shopList[-1])\n"
   ]
  },
  {
   "cell_type": "code",
   "execution_count": 12,
   "metadata": {},
   "outputs": [
    {
     "name": "stdout",
     "output_type": "stream",
     "text": [
      "Apples\n",
      "bread\n",
      "milk\n",
      "cheese\n",
      "pizza\n",
      "soap\n",
      "6  Number of items in shopping list.\n"
     ]
    }
   ],
   "source": [
    "shopList = (\"Apples\", \"bread\", \"milk\", \"cheese\", \"pizza\", \"soap\")\n",
    "\n",
    "for i in shopList:\n",
    "    print(i)\n",
    "    \n",
    "print(len(shopList), \" Number of items in shopping list.\")"
   ]
  },
  {
   "cell_type": "code",
   "execution_count": 13,
   "metadata": {},
   "outputs": [
    {
     "name": "stdout",
     "output_type": "stream",
     "text": [
      "soap\n",
      "pizza\n",
      "cheese\n",
      "milk\n",
      "bread\n",
      "Apples\n",
      "6  Number of items in shopping list.\n"
     ]
    }
   ],
   "source": [
    "shopList = (\"Apples\", \"bread\", \"milk\", \"cheese\", \"pizza\", \"soap\")\n",
    "\n",
    "for i in reversed(shopList):\n",
    "    print(i)\n",
    "    \n",
    "print(len(shopList), \" Number of items in shopping list.\")"
   ]
  },
  {
   "cell_type": "code",
   "execution_count": 17,
   "metadata": {},
   "outputs": [
    {
     "name": "stdout",
     "output_type": "stream",
     "text": [
      "8\n",
      "7\n",
      "6\n",
      "5\n",
      "4\n",
      "3\n",
      "2\n",
      "1\n",
      "0\n"
     ]
    }
   ],
   "source": [
    "for i in reversed(range(9)):\n",
    "    print(i)"
   ]
  },
  {
   "cell_type": "code",
   "execution_count": 18,
   "metadata": {},
   "outputs": [
    {
     "name": "stdout",
     "output_type": "stream",
     "text": [
      "['Apples', 'bread', 'eggs', 'cheese', 'pizza', 'soap']\n"
     ]
    }
   ],
   "source": [
    "shopList = [\"Apples\", \"bread\", \"milk\", \"cheese\", \"pizza\", \"soap\"] #() are tuples, [] are lists, \n",
    "                                                                  #you can change lists, you cant change tuples\n",
    "shopList[2] = \"eggs\"\n",
    "print(shopList)"
   ]
  },
  {
   "cell_type": "code",
   "execution_count": 19,
   "metadata": {},
   "outputs": [
    {
     "ename": "TypeError",
     "evalue": "'tuple' object does not support item assignment",
     "output_type": "error",
     "traceback": [
      "\u001b[1;31m---------------------------------------------------------------------------\u001b[0m",
      "\u001b[1;31mTypeError\u001b[0m                                 Traceback (most recent call last)",
      "\u001b[1;32m<ipython-input-19-bd7da132cc72>\u001b[0m in \u001b[0;36m<module>\u001b[1;34m\u001b[0m\n\u001b[0;32m      1\u001b[0m \u001b[0mshopList\u001b[0m \u001b[1;33m=\u001b[0m \u001b[1;33m(\u001b[0m\u001b[1;34m\"Apples\"\u001b[0m\u001b[1;33m,\u001b[0m \u001b[1;34m\"bread\"\u001b[0m\u001b[1;33m,\u001b[0m \u001b[1;34m\"milk\"\u001b[0m\u001b[1;33m,\u001b[0m \u001b[1;34m\"cheese\"\u001b[0m\u001b[1;33m,\u001b[0m \u001b[1;34m\"pizza\"\u001b[0m\u001b[1;33m,\u001b[0m \u001b[1;34m\"soap\"\u001b[0m\u001b[1;33m)\u001b[0m \u001b[1;31m#() are tuples, [] are lists,\u001b[0m\u001b[1;33m\u001b[0m\u001b[1;33m\u001b[0m\u001b[0m\n\u001b[0;32m      2\u001b[0m                                                                   \u001b[1;31m#you can change lists, you cant change tuples\u001b[0m\u001b[1;33m\u001b[0m\u001b[1;33m\u001b[0m\u001b[1;33m\u001b[0m\u001b[0m\n\u001b[1;32m----> 3\u001b[1;33m \u001b[0mshopList\u001b[0m\u001b[1;33m[\u001b[0m\u001b[1;36m2\u001b[0m\u001b[1;33m]\u001b[0m \u001b[1;33m=\u001b[0m \u001b[1;34m\"eggs\"\u001b[0m\u001b[1;33m\u001b[0m\u001b[1;33m\u001b[0m\u001b[0m\n\u001b[0m\u001b[0;32m      4\u001b[0m \u001b[0mprint\u001b[0m\u001b[1;33m(\u001b[0m\u001b[0mshopList\u001b[0m\u001b[1;33m)\u001b[0m\u001b[1;33m\u001b[0m\u001b[1;33m\u001b[0m\u001b[0m\n",
      "\u001b[1;31mTypeError\u001b[0m: 'tuple' object does not support item assignment"
     ]
    }
   ],
   "source": [
    "shopList = (\"Apples\", \"bread\", \"milk\", \"cheese\", \"pizza\", \"soap\") #() are tuples, [] are lists, \n",
    "                                                                  #you can change lists, you cant change tuples\n",
    "shopList[2] = \"eggs\"\n",
    "print(shopList)"
   ]
  },
  {
   "cell_type": "code",
   "execution_count": 4,
   "metadata": {},
   "outputs": [
    {
     "name": "stdout",
     "output_type": "stream",
     "text": [
      "What are you shopping?what\n",
      "What is the tickerare\n",
      "Enter the Price of the stockyou\n",
      "['what', 'are', 'you']\n"
     ]
    }
   ],
   "source": [
    "stockName = input(\"What is the stock name?\")\n",
    "ticker = input(\"What is the ticker\")\n",
    "price = input(\"Enter the Price of the stock\")\n",
    "stockList = []\n",
    "stockList.append(stockName)\n",
    "stockList.append(ticker)\n",
    "stockList.append(price)\n",
    "print(stockList)"
   ]
  },
  {
   "cell_type": "code",
   "execution_count": null,
   "metadata": {},
   "outputs": [],
   "source": [
    "stock = []\n",
    "stock+= [input(\"What is the stock name?\")]\n",
    "stock+= [input(\"What is ticker\")]\n",
    "stock+= [input(\"What is the price?\")]\n",
    "print(stock)"
   ]
  },
  {
   "cell_type": "code",
   "execution_count": 5,
   "metadata": {},
   "outputs": [
    {
     "name": "stdout",
     "output_type": "stream",
     "text": [
      "What is the stock name?yo\n",
      "What is tickerqha\n",
      "What is the price?qw\n",
      "['yo', 'qha', 'qw']\n"
     ]
    }
   ],
   "source": [
    "stock = [input(\"What is the stock name?\"),input(\"What is ticker\"),input(\"What is the price?\")]#shorter way to do this my dude\n",
    "print(stock)"
   ]
  },
  {
   "cell_type": "code",
   "execution_count": null,
   "metadata": {},
   "outputs": [],
   "source": [
    "#you can't add to a tuple, however you can do the two line method, since you are establishing the tuple from the get go. "
   ]
  },
  {
   "cell_type": "code",
   "execution_count": 9,
   "metadata": {},
   "outputs": [
    {
     "name": "stdout",
     "output_type": "stream",
     "text": [
      "['Apples', 'bread']\n"
     ]
    }
   ],
   "source": [
    "shopList = [\"Apples\", \"bread\", \"milk\", \"cheese\", \"pizza\", \"soap\"] #() are tuples, [] are lists, \n",
    "                                                                  #you can change lists, you cant change tuples\n",
    "print(shopList[0:2])"
   ]
  },
  {
   "cell_type": "code",
   "execution_count": 10,
   "metadata": {},
   "outputs": [
    {
     "name": "stdout",
     "output_type": "stream",
     "text": [
      "['Apples', 'bread', 'milk']\n"
     ]
    }
   ],
   "source": [
    "shopList = [\"Apples\", \"bread\", \"milk\", \"cheese\", \"pizza\", \"soap\"] #() are tuples, [] are lists, \n",
    "                                                                  #you can change lists, you cant change tuples\n",
    "print(shopList[:3])"
   ]
  },
  {
   "cell_type": "code",
   "execution_count": 11,
   "metadata": {},
   "outputs": [
    {
     "name": "stdout",
     "output_type": "stream",
     "text": [
      "['Apples', 'bread', 'milk', 'cheese', 'pizza', 'soap', 'Apples', 'yogurt', 'milk', 'cheese', 'pizza', 'soap']\n",
      "['Apples', 'yogurt', 'milk', 'cheese', 'pizza', 'soap']\n"
     ]
    }
   ],
   "source": [
    "shopList1 = [\"Apples\", \"bread\", \"milk\", \"cheese\", \"pizza\", \"soap\"] #() are tuples, [] are lists, \n",
    "                                                                  #you can change lists, you cant change tuples\n",
    "shopList2 = [\"Apples\", \"yogurt\", \"milk\", \"cheese\", \"pizza\", \"soap\"]\n",
    "shopList1+=shopList2\n",
    "print(shopList1)\n",
    "print(shopList2)"
   ]
  },
  {
   "cell_type": "code",
   "execution_count": 13,
   "metadata": {},
   "outputs": [
    {
     "ename": "TypeError",
     "evalue": "can't multiply sequence by non-int of type 'list'",
     "output_type": "error",
     "traceback": [
      "\u001b[1;31m---------------------------------------------------------------------------\u001b[0m",
      "\u001b[1;31mTypeError\u001b[0m                                 Traceback (most recent call last)",
      "\u001b[1;32m<ipython-input-13-21b418aa7ec8>\u001b[0m in \u001b[0;36m<module>\u001b[1;34m\u001b[0m\n\u001b[0;32m      2\u001b[0m                                                                   \u001b[1;31m#you can change lists, you cant change tuples\u001b[0m\u001b[1;33m\u001b[0m\u001b[1;33m\u001b[0m\u001b[1;33m\u001b[0m\u001b[0m\n\u001b[0;32m      3\u001b[0m \u001b[0mshopList2\u001b[0m \u001b[1;33m=\u001b[0m \u001b[1;33m[\u001b[0m\u001b[1;34m\"Apples\"\u001b[0m\u001b[1;33m,\u001b[0m \u001b[1;34m\"yogurt\"\u001b[0m\u001b[1;33m,\u001b[0m \u001b[1;34m\"milk\"\u001b[0m\u001b[1;33m,\u001b[0m \u001b[1;34m\"cheese\"\u001b[0m\u001b[1;33m,\u001b[0m \u001b[1;34m\"pizza\"\u001b[0m\u001b[1;33m,\u001b[0m \u001b[1;34m\"soap\"\u001b[0m\u001b[1;33m]\u001b[0m\u001b[1;33m\u001b[0m\u001b[1;33m\u001b[0m\u001b[0m\n\u001b[1;32m----> 4\u001b[1;33m \u001b[0mshopList1\u001b[0m\u001b[1;33m*=\u001b[0m\u001b[0mshopList1\u001b[0m\u001b[1;33m\u001b[0m\u001b[1;33m\u001b[0m\u001b[0m\n\u001b[0m\u001b[0;32m      5\u001b[0m \u001b[0mprint\u001b[0m\u001b[1;33m(\u001b[0m\u001b[0mshopList1\u001b[0m\u001b[1;33m)\u001b[0m\u001b[1;33m\u001b[0m\u001b[1;33m\u001b[0m\u001b[0m\n\u001b[0;32m      6\u001b[0m \u001b[0mprint\u001b[0m\u001b[1;33m(\u001b[0m\u001b[0mshopList2\u001b[0m\u001b[1;33m)\u001b[0m\u001b[1;33m\u001b[0m\u001b[1;33m\u001b[0m\u001b[0m\n",
      "\u001b[1;31mTypeError\u001b[0m: can't multiply sequence by non-int of type 'list'"
     ]
    }
   ],
   "source": [
    "shopList1 = [\"Apples\", \"bread\", \"milk\", \"cheese\", \"pizza\", \"soap\"] #() are tuples, [] are lists, \n",
    "                                                                  #you can change lists, you cant change tuples\n",
    "shopList2 = [\"Apples\", \"yogurt\", \"milk\", \"cheese\", \"pizza\", \"soap\"]\n",
    "shopList1+=shopList2\n",
    "print(shopList1)\n",
    "print(shopList2)"
   ]
  },
  {
   "cell_type": "code",
   "execution_count": 19,
   "metadata": {},
   "outputs": [
    {
     "name": "stdout",
     "output_type": "stream",
     "text": [
      "['Apples', 'bread', 'milk', 'cheese', 'pizza', 'soap', 'Apples', 'bread', 'milk', 'cheese', 'pizza', 'soap', 'Apples', 'bread', 'milk', 'cheese', 'pizza', 'soap', 'Apples', 'bread', 'milk', 'cheese', 'pizza', 'soap', 'Apples', 'bread', 'milk', 'cheese', 'pizza', 'soap']\n",
      "['Apples', 'yogurt', 'milk', 'cheese', 'pizza', 'soap']\n",
      "==================\n",
      "['bread', 'milk', 'cheese', 'pizza', 'soap', 'Apples', 'bread', 'milk', 'cheese', 'pizza', 'soap', 'Apples', 'bread', 'milk', 'cheese', 'pizza', 'soap', 'Apples', 'bread', 'milk', 'cheese', 'pizza', 'soap', 'Apples', 'bread', 'milk', 'cheese', 'pizza', 'soap']\n"
     ]
    }
   ],
   "source": [
    "shopList1 = [\"Apples\", \"bread\", \"milk\", \"cheese\", \"pizza\", \"soap\"] #() are tuples, [] are lists, \n",
    "                                                                  #you can change lists, you cant change tuples\n",
    "shopList2 = [\"Apples\", \"yogurt\", \"milk\", \"cheese\", \"pizza\", \"soap\"]\n",
    "shopList1*=5\n",
    "print(shopList1)\n",
    "print(shopList2)\n",
    "\n",
    "print(\"==================\")\n",
    "shopList1.remove(\"Apples\")\n",
    "print(shopList1)"
   ]
  },
  {
   "cell_type": "code",
   "execution_count": null,
   "metadata": {},
   "outputs": [],
   "source": []
  }
 ],
 "metadata": {
  "kernelspec": {
   "display_name": "Python 3",
   "language": "python",
   "name": "python3"
  },
  "language_info": {
   "codemirror_mode": {
    "name": "ipython",
    "version": 3
   },
   "file_extension": ".py",
   "mimetype": "text/x-python",
   "name": "python",
   "nbconvert_exporter": "python",
   "pygments_lexer": "ipython3",
   "version": "3.7.1"
  }
 },
 "nbformat": 4,
 "nbformat_minor": 2
}
