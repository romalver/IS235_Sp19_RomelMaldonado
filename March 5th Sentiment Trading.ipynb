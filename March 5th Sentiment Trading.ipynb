{
 "cells": [
  {
   "cell_type": "code",
   "execution_count": 7,
   "metadata": {},
   "outputs": [
    {
     "name": "stdout",
     "output_type": "stream",
     "text": [
      "What is the Stock Name? if finish press enter aaple\n",
      "What is the current price? for $2.00 enter 2.00: 1\n",
      "What is the number of positive sentiments? 3\n",
      "What is the number of negative sentiments? 2\n",
      "What is the number of neutral sentiments? 1\n",
      "What is the number of undefined sentiments? 1\n",
      "Buy stock!\n",
      "For stock aaple:\n",
      "The factor being used is:  1.5\n",
      "The Target Price is:  1.5\n",
      "What is the Stock Name? if finish press enter 1\n",
      "What is the current price? for $2.00 enter 2.00: 23\n",
      "What is the number of positive sentiments? 4\n",
      "What is the number of negative sentiments? 2\n",
      "What is the number of neutral sentiments? 1\n",
      "What is the number of undefined sentiments? 1\n",
      "Buy stock!\n",
      "For stock 1:\n",
      "The factor being used is:  2.0\n",
      "The Target Price is:  46.0\n",
      "What is the Stock Name? if finish press enter \n",
      "Program Complete\n"
     ]
    }
   ],
   "source": [
    "#Sentiment trading: individual stocks\n",
    "#Ask the user for the name of stock, current price, number of positive sentiments, \n",
    "#number of negative sentiments, number of neutral sentiments, and number of undefined sentiments\n",
    "stockName = input(\"What is the Stock Name? if finish press enter \")\n",
    "\n",
    "#Create While Loop\n",
    "while stockName != '':\n",
    "    currentPrice = float(input(\"What is the current price? for $2.00 enter 2.00: \"))\n",
    "    positiveSentiment = int(input(\"What is the number of positive sentiments? \"))\n",
    "    negativeSentiment = int(input(\"What is the number of negative sentiments? \"))\n",
    "    neutralSentiment = int(input(\"What is the number of neutral sentiments? \"))\n",
    "    undefinedSentiment = int(input(\"What is the number of undefined sentiments? \"))\n",
    "    factor = (positiveSentiment/negativeSentiment)\n",
    "    targetPrice = 0;\n",
    "    #However, if the number of undefined sentiments is greater than either the number of positive sentiments or \n",
    "    #the negative sentiments, do not trade this stock\n",
    "    if (undefinedSentiment > positiveSentiment) or (undefinedSentiment > negativeSentiment):\n",
    "        print(\"Cannot Trade this Stock\")\n",
    "    #If the number of positive sentiments is greater than the number of negative sentiments, then use a factor of 1.1\n",
    "\n",
    "    elif positiveSentiment > negativeSentiment:\n",
    "        #Calculate the target price as factor x current price\n",
    "        targetPrice = factor * currentPrice\n",
    "        print(\"Buy stock!\")\n",
    "    #If the number of negative sentiments is greater than the number of positive sentiments, then use a factor of .9\n",
    "    elif negativeSentiment > positiveSentiment:\n",
    "        #Calculate the target price as factor x current price\n",
    "        targetPrice = factor * currentPrice\n",
    "        print(\"Sell stock\")\n",
    "    else:\n",
    "        print(\"what? I dont know what to do with what you gave me\")\n",
    "    #Make a buy sell decision:\n",
    "    #If the target price is higher than current price, buy\n",
    "    print(\"For stock \" + stockName + \":\")\n",
    "    print(\"The factor being used is: \", factor)\n",
    "    print(\"The Target Price is: \", targetPrice)\n",
    "    stockName = input(\"What is the Stock Name? if finish press enter \")\n",
    "\n",
    "print(\"Program Complete\")"
   ]
  },
  {
   "cell_type": "markdown",
   "metadata": {},
   "source": [
    "\n"
   ]
  },
  {
   "cell_type": "code",
   "execution_count": null,
   "metadata": {},
   "outputs": [
    {
     "name": "stdout",
     "output_type": "stream",
     "text": [
      "Do you want to enter a single stock or multiple? Type 's' for single & 'm' for multiplem\n",
      "What is the Stock Name? if finish press enter aaple\n",
      "What is the current price? for $2.00 enter 2.00: 20\n",
      "What is the number of positive sentiments? 01\n",
      "What is the number of negative sentiments? 1\n",
      "What is the number of neutral sentiments? 1\n",
      "What is the number of undefined sentiments? 1\n",
      "what? I dont know what to do with what you gave me\n",
      "For stock aaple:\n",
      "The factor being used is:  1.0\n",
      "The Target Price is:  0\n"
     ]
    }
   ],
   "source": [
    "#Defining a funciton\n",
    "stockName = input(\"Do you want to enter a single stock or multiple? Type 's' for single & 'm' for multiple\")\n",
    "if stockName == 's':\n",
    "    stockName = input(\"What is the Stock Name? if finish press enter \")\n",
    "    Sentiment()\n",
    "    print(\"Program Complete\")\n",
    "elif stockName == 'm':\n",
    "    stockName = input(\"What is the Stock Name? if finish press enter \")\n",
    "    while stockName != '':\n",
    "        Sentiment()\n",
    "    print(\"Program Complete\")\n",
    "    \n",
    "#Sentiment trading: individual stocks\n",
    "#Ask the user for the name of stock, current price, number of positive sentiments, \n",
    "#number of negative sentiments, number of neutral sentiments, and number of undefined sentiments\n",
    "\n",
    "def Sentiment(): #define the function above everytihng else\n",
    "    currentPrice = float(input(\"What is the current price? for $2.00 enter 2.00: \"))\n",
    "    positiveSentiment = int(input(\"What is the number of positive sentiments? \"))\n",
    "    negativeSentiment = int(input(\"What is the number of negative sentiments? \"))\n",
    "    neutralSentiment = int(input(\"What is the number of neutral sentiments? \"))\n",
    "    undefinedSentiment = int(input(\"What is the number of undefined sentiments? \"))\n",
    "    factor = (positiveSentiment/negativeSentiment)\n",
    "    targetPrice = 0;\n",
    "    #However, if the number of undefined sentiments is greater than either the number of positive sentiments or \n",
    "    #the negative sentiments, do not trade this stock\n",
    "    if (undefinedSentiment > positiveSentiment) or (undefinedSentiment > negativeSentiment):\n",
    "        print(\"Cannot Trade this Stock\")\n",
    "    #If the number of positive sentiments is greater than the number of negative sentiments, then use a factor of 1.1\n",
    "\n",
    "    elif positiveSentiment > negativeSentiment:\n",
    "        #Calculate the target price as factor x current price\n",
    "        targetPrice = factor * currentPrice\n",
    "        print(\"Buy stock!\")\n",
    "    #If the number of negative sentiments is greater than the number of positive sentiments, then use a factor of .9\n",
    "    elif negativeSentiment > positiveSentiment:\n",
    "        #Calculate the target price as factor x current price\n",
    "        targetPrice = factor * currentPrice\n",
    "        print(\"Sell stock\")\n",
    "    else:\n",
    "        print(\"what? I dont know what to do with what you gave me\")\n",
    "    #Make a buy sell decision:\n",
    "    #If the target price is higher than current price, buy\n",
    "    print(\"For stock \" + stockName + \":\")\n",
    "    print(\"The factor being used is: \", factor)\n",
    "    print(\"The Target Price is: \", targetPrice)\n"
   ]
  },
  {
   "cell_type": "markdown",
   "metadata": {},
   "source": []
  }
 ],
 "metadata": {
  "kernelspec": {
   "display_name": "Python 3",
   "language": "python",
   "name": "python3"
  },
  "language_info": {
   "codemirror_mode": {
    "name": "ipython",
    "version": 3
   },
   "file_extension": ".py",
   "mimetype": "text/x-python",
   "name": "python",
   "nbconvert_exporter": "python",
   "pygments_lexer": "ipython3",
   "version": "3.7.1"
  }
 },
 "nbformat": 4,
 "nbformat_minor": 2
}
